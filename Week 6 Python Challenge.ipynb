{
 "cells": [
  {
   "cell_type": "markdown",
   "id": "97fe69b0",
   "metadata": {},
   "source": [
    "### Create a function that returns True when num1 is equal to num2; otherwise return False\n",
    "\n",
    "Examples:\n",
    "is_same_num(4, 8) ➞ False\n",
    "\n",
    "is_same_num(2, 2) ➞ True\n",
    "\n",
    "is_same_num(2, “2”) ➞ False\n",
    "\n"
   ]
  },
  {
   "cell_type": "code",
   "execution_count": 1,
   "id": "77a6393a",
   "metadata": {},
   "outputs": [],
   "source": [
    "def is_same_number(num1,num2):\n",
    "    return num1==num2"
   ]
  },
  {
   "cell_type": "code",
   "execution_count": 2,
   "id": "cafd7479",
   "metadata": {},
   "outputs": [
    {
     "name": "stdout",
     "output_type": "stream",
     "text": [
      "False\n"
     ]
    }
   ],
   "source": [
    "num1=2\n",
    "num2=4\n",
    "print(is_same_number(num1,num2))    "
   ]
  },
  {
   "cell_type": "code",
   "execution_count": 3,
   "id": "a8ca49eb",
   "metadata": {},
   "outputs": [
    {
     "name": "stdout",
     "output_type": "stream",
     "text": [
      "True\n"
     ]
    }
   ],
   "source": [
    "num1=2\n",
    "num2=2\n",
    "print(is_same_number(num1,num2))    "
   ]
  },
  {
   "cell_type": "code",
   "execution_count": 4,
   "id": "ead59fb7",
   "metadata": {},
   "outputs": [
    {
     "name": "stdout",
     "output_type": "stream",
     "text": [
      "False\n"
     ]
    }
   ],
   "source": [
    "num1='2'\n",
    "num2=2\n",
    "print(is_same_number(num1,num2))    "
   ]
  }
 ],
 "metadata": {
  "kernelspec": {
   "display_name": "Python 3 (ipykernel)",
   "language": "python",
   "name": "python3"
  },
  "language_info": {
   "codemirror_mode": {
    "name": "ipython",
    "version": 3
   },
   "file_extension": ".py",
   "mimetype": "text/x-python",
   "name": "python",
   "nbconvert_exporter": "python",
   "pygments_lexer": "ipython3",
   "version": "3.9.13"
  }
 },
 "nbformat": 4,
 "nbformat_minor": 5
}
