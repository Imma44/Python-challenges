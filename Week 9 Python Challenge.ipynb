{
 "cells": [
  {
   "cell_type": "markdown",
   "id": "97fe69b0",
   "metadata": {},
   "source": [
    "### Problem: Create a function that takes a string as input and capitalizes the string.\n"
   ]
  },
  {
   "cell_type": "code",
   "execution_count": 1,
   "id": "77a6393a",
   "metadata": {},
   "outputs": [],
   "source": [
    "def capitalize_string(string):\n",
    "   \n",
    "    return string.capitalize()\n",
    "    \n",
    "    "
   ]
  },
  {
   "cell_type": "code",
   "execution_count": 2,
   "id": "cafd7479",
   "metadata": {},
   "outputs": [
    {
     "name": "stdout",
     "output_type": "stream",
     "text": [
      "Jane\n"
     ]
    }
   ],
   "source": [
    "string='jane'\n",
    "print(capitalize_string(string))\n",
    "\n"
   ]
  }
 ],
 "metadata": {
  "kernelspec": {
   "display_name": "Python 3 (ipykernel)",
   "language": "python",
   "name": "python3"
  },
  "language_info": {
   "codemirror_mode": {
    "name": "ipython",
    "version": 3
   },
   "file_extension": ".py",
   "mimetype": "text/x-python",
   "name": "python",
   "nbconvert_exporter": "python",
   "pygments_lexer": "ipython3",
   "version": "3.9.13"
  }
 },
 "nbformat": 4,
 "nbformat_minor": 5
}
