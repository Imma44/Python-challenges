{
 "cells": [
  {
   "cell_type": "markdown",
   "id": "97fe69b0",
   "metadata": {},
   "source": [
    "### Problem 1: Write two functions:\n",
    "\n",
    "#### to_int() : A function to convert a string to an integer.\n",
    "#### to_str() : A function to convert an integer to a string.\n",
    "\n"
   ]
  },
  {
   "cell_type": "code",
   "execution_count": 1,
   "id": "cafd7479",
   "metadata": {},
   "outputs": [],
   "source": [
    "def to_int(string):\n",
    "    return int(string)"
   ]
  },
  {
   "cell_type": "code",
   "execution_count": 2,
   "id": "fbca5055",
   "metadata": {},
   "outputs": [
    {
     "data": {
      "text/plain": [
       "88"
      ]
     },
     "execution_count": 2,
     "metadata": {},
     "output_type": "execute_result"
    }
   ],
   "source": [
    "string=\"88\"\n",
    "to_int(string)"
   ]
  },
  {
   "cell_type": "code",
   "execution_count": 3,
   "id": "d7448c60",
   "metadata": {},
   "outputs": [],
   "source": [
    "def to_str(integer):\n",
    "    return str(integer)"
   ]
  },
  {
   "cell_type": "code",
   "execution_count": 4,
   "id": "ce94d68a",
   "metadata": {},
   "outputs": [
    {
     "data": {
      "text/plain": [
       "'88'"
      ]
     },
     "execution_count": 4,
     "metadata": {},
     "output_type": "execute_result"
    }
   ],
   "source": [
    "integer=88\n",
    "to_str(integer)"
   ]
  },
  {
   "cell_type": "markdown",
   "id": "f5f55b59",
   "metadata": {},
   "source": [
    "### Problem 2: Create a function that takes a number as its only argument and returns True if it’s less than or equal to zero, otherwise return False.\n",
    "\n",
    "\n"
   ]
  },
  {
   "cell_type": "code",
   "execution_count": 5,
   "id": "4a9869de",
   "metadata": {},
   "outputs": [],
   "source": [
    "def bool_result(number):\n",
    "    return number<=0\n"
   ]
  },
  {
   "cell_type": "code",
   "execution_count": 6,
   "id": "827ff776",
   "metadata": {},
   "outputs": [
    {
     "name": "stdout",
     "output_type": "stream",
     "text": [
      "False\n",
      "True\n"
     ]
    }
   ],
   "source": [
    "number1=8\n",
    "print(bool_result(number1))\n",
    "number2=-1\n",
    "print(bool_result(number2))\n"
   ]
  },
  {
   "cell_type": "markdown",
   "id": "ae16557b",
   "metadata": {},
   "source": [
    "### Bonus (Optional) Create a function that takes two number strings and returns their sum as a string."
   ]
  },
  {
   "cell_type": "code",
   "execution_count": 7,
   "id": "b2216f64",
   "metadata": {},
   "outputs": [],
   "source": [
    "\n",
    "def sum_strings(s1,s2):\n",
    "    # Convert the number strings to integers\n",
    "    s1 = int(s1)\n",
    "    s2 = int(s2)\n",
    "\n",
    "    # Calculate the sum of the numbers\n",
    "    result = s1+s2\n",
    "\n",
    "    # Convert the sum back to a string and return it\n",
    "    return str(result)\n"
   ]
  },
  {
   "cell_type": "code",
   "execution_count": 8,
   "id": "bce5105a",
   "metadata": {},
   "outputs": [
    {
     "data": {
      "text/plain": [
       "'170'"
      ]
     },
     "execution_count": 8,
     "metadata": {},
     "output_type": "execute_result"
    }
   ],
   "source": [
    "s1=\"80\"\n",
    "s2=\"90\"\n",
    "sum_strings(s1,s2)"
   ]
  }
 ],
 "metadata": {
  "kernelspec": {
   "display_name": "Python 3 (ipykernel)",
   "language": "python",
   "name": "python3"
  },
  "language_info": {
   "codemirror_mode": {
    "name": "ipython",
    "version": 3
   },
   "file_extension": ".py",
   "mimetype": "text/x-python",
   "name": "python",
   "nbconvert_exporter": "python",
   "pygments_lexer": "ipython3",
   "version": "3.9.13"
  }
 },
 "nbformat": 4,
 "nbformat_minor": 5
}
