{
 "cells": [
  {
   "cell_type": "markdown",
   "id": "97fe69b0",
   "metadata": {},
   "source": [
    "### Problem: Create a function that takes a list of strings as input. Join each string in the list to create and return one complete string. Each word should have a space between them.\n",
    "\n",
    "Examples:\n",
    "\n",
    "join_strings([“Hello”, “how”, “are”, “you?”]) -> “Hello how are you?”\n",
    "\n",
    "join_strings([“What’s”, “your”, “name?”]) -> “What’s your name?”"
   ]
  },
  {
   "cell_type": "code",
   "execution_count": 1,
   "id": "77a6393a",
   "metadata": {},
   "outputs": [],
   "source": [
    "\n",
    "def join_strings(strings):\n",
    "    return ' '.join(strings)\n",
    "    \n",
    "    "
   ]
  },
  {
   "cell_type": "code",
   "execution_count": 2,
   "id": "cafd7479",
   "metadata": {},
   "outputs": [
    {
     "name": "stdout",
     "output_type": "stream",
     "text": [
      "Hello how are you?\n"
     ]
    }
   ],
   "source": [
    "strings=[\"Hello\", \"how\", \"are\", \"you?\"]\n",
    "print(join_strings(strings))\n",
    "\n"
   ]
  },
  {
   "cell_type": "code",
   "execution_count": 3,
   "id": "64f9b600",
   "metadata": {},
   "outputs": [
    {
     "name": "stdout",
     "output_type": "stream",
     "text": [
      "What's your name?\n"
     ]
    }
   ],
   "source": [
    "strings=[\"What's\", \"your\", \"name?\"]\n",
    "print(join_strings(strings))"
   ]
  }
 ],
 "metadata": {
  "kernelspec": {
   "display_name": "Python 3 (ipykernel)",
   "language": "python",
   "name": "python3"
  },
  "language_info": {
   "codemirror_mode": {
    "name": "ipython",
    "version": 3
   },
   "file_extension": ".py",
   "mimetype": "text/x-python",
   "name": "python",
   "nbconvert_exporter": "python",
   "pygments_lexer": "ipython3",
   "version": "3.9.13"
  }
 },
 "nbformat": 4,
 "nbformat_minor": 5
}
