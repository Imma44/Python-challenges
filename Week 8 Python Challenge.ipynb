{
 "cells": [
  {
   "cell_type": "markdown",
   "id": "97fe69b0",
   "metadata": {},
   "source": [
    "### Problem: Create a function that takes in a string as an input. If the string starts with a vowel, return True. If not, return False.\n",
    "\n",
    "Examples:\n",
    "\n",
    "starts_with_vowel(‘hello’) -> False\n",
    "\n",
    "starts_with_vowel(‘another’) -> True\n"
   ]
  },
  {
   "cell_type": "code",
   "execution_count": 1,
   "id": "77a6393a",
   "metadata": {},
   "outputs": [],
   "source": [
    "def starts_with_vowel(string):\n",
    "    vowels=['a','e','i','o','u']\n",
    "    first_letter = string[0].lower()\n",
    "    return first_letter in vowels\n",
    "    \n",
    "    "
   ]
  },
  {
   "cell_type": "code",
   "execution_count": 2,
   "id": "cafd7479",
   "metadata": {},
   "outputs": [
    {
     "name": "stdout",
     "output_type": "stream",
     "text": [
      "False\n",
      "True\n",
      "True\n"
     ]
    }
   ],
   "source": [
    "string='Jane'\n",
    "print(starts_with_vowel(string))\n",
    "string='another'\n",
    "print(starts_with_vowel(string))\n",
    "string='Apple'\n",
    "print(starts_with_vowel(string))\n"
   ]
  }
 ],
 "metadata": {
  "kernelspec": {
   "display_name": "Python 3 (ipykernel)",
   "language": "python",
   "name": "python3"
  },
  "language_info": {
   "codemirror_mode": {
    "name": "ipython",
    "version": 3
   },
   "file_extension": ".py",
   "mimetype": "text/x-python",
   "name": "python",
   "nbconvert_exporter": "python",
   "pygments_lexer": "ipython3",
   "version": "3.9.13"
  }
 },
 "nbformat": 4,
 "nbformat_minor": 5
}
