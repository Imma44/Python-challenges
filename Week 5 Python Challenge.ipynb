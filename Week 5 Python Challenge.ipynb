{
 "cells": [
  {
   "cell_type": "markdown",
   "id": "97fe69b0",
   "metadata": {},
   "source": [
    "### Create a function that takes in a current mood and return a sentence in the following format:\n",
    "#### *“Today, I am feeling {mood}”. However, if no argument is passed, return “Today, I am feeling neutral”.*\n",
    "\n"
   ]
  },
  {
   "cell_type": "code",
   "execution_count": 1,
   "id": "cafd7479",
   "metadata": {},
   "outputs": [],
   "source": [
    "def feeling(mood):\n",
    "    if len(mood)==0:\n",
    "        return 'Today,I am feeling neutral'\n",
    "    else:\n",
    "        return f\"Today,I am feeling {mood}\""
   ]
  },
  {
   "cell_type": "code",
   "execution_count": 2,
   "id": "9ead005a",
   "metadata": {},
   "outputs": [
    {
     "name": "stdout",
     "output_type": "stream",
     "text": [
      "Today,I am feeling neutral\n",
      "Today,I am feeling happy\n"
     ]
    }
   ],
   "source": [
    "mood=''\n",
    "print(feeling(mood))\n",
    "mood='happy'\n",
    "print(feeling(mood))"
   ]
  }
 ],
 "metadata": {
  "kernelspec": {
   "display_name": "Python 3 (ipykernel)",
   "language": "python",
   "name": "python3"
  },
  "language_info": {
   "codemirror_mode": {
    "name": "ipython",
    "version": 3
   },
   "file_extension": ".py",
   "mimetype": "text/x-python",
   "name": "python",
   "nbconvert_exporter": "python",
   "pygments_lexer": "ipython3",
   "version": "3.9.13"
  }
 },
 "nbformat": 4,
 "nbformat_minor": 5
}
