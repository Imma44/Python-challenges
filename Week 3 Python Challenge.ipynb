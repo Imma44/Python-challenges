{
 "cells": [
  {
   "cell_type": "markdown",
   "id": "97fe69b0",
   "metadata": {},
   "source": [
    "### Problem 1: Create a function that takes two arguments: the original price and the discount percentage as integers and returns the final price after the discount.\n",
    "\n"
   ]
  },
  {
   "cell_type": "code",
   "execution_count": 1,
   "id": "cafd7479",
   "metadata": {},
   "outputs": [],
   "source": [
    "def price_after_discount(original_price,discount_percentage):\n",
    "    \n",
    "    return original_price * (100-discount_percentage)/100\n",
    "\n",
    "\n",
    "    "
   ]
  },
  {
   "cell_type": "code",
   "execution_count": 2,
   "id": "a8ca49eb",
   "metadata": {},
   "outputs": [
    {
     "name": "stdout",
     "output_type": "stream",
     "text": [
      "80 after discount is equal to 72.0\n"
     ]
    }
   ],
   "source": [
    "original_price=80\n",
    "discount_percentage=10\n",
    "print(f\"{original_price} after discount is equal to {price_after_discount(original_price,discount_percentage)}\")"
   ]
  },
  {
   "cell_type": "markdown",
   "id": "f5f55b59",
   "metadata": {},
   "source": [
    "### Problem 2: Create a function that takes the age in years and returns the age in days.\n"
   ]
  },
  {
   "cell_type": "code",
   "execution_count": 3,
   "id": "4a9869de",
   "metadata": {},
   "outputs": [],
   "source": [
    "def age_to_days(age_in_years):\n",
    "    return age_in_years * 365\n",
    "    "
   ]
  },
  {
   "cell_type": "code",
   "execution_count": 4,
   "id": "abc7caa4",
   "metadata": {},
   "outputs": [
    {
     "name": "stdout",
     "output_type": "stream",
     "text": [
      "The age in days of 20 years is 7300 days.\n"
     ]
    }
   ],
   "source": [
    "age_in_years=20\n",
    "print(f\"The age in days of {age_in_years} years is {age_to_days(age_in_years)} days.\")"
   ]
  },
  {
   "cell_type": "markdown",
   "id": "ae16557b",
   "metadata": {},
   "source": [
    "### Problem 3: Create a function that takes an angle in radians and returns the corresponding angle in degrees rounded to one decimal place."
   ]
  },
  {
   "cell_type": "markdown",
   "id": "3bb8d69a",
   "metadata": {},
   "source": [
    "\n",
    "* 1 radian =57.29578 degrees"
   ]
  },
  {
   "cell_type": "code",
   "execution_count": 5,
   "id": "b2216f64",
   "metadata": {},
   "outputs": [],
   "source": [
    "degrees=57.29578\n",
    "def to_degrees(n):\n",
    "    return n * degrees"
   ]
  },
  {
   "cell_type": "code",
   "execution_count": 6,
   "id": "ce52c877",
   "metadata": {},
   "outputs": [
    {
     "name": "stdout",
     "output_type": "stream",
     "text": [
      "30 radians is equal to 1718.8734 degrees.\n"
     ]
    }
   ],
   "source": [
    "n=30\n",
    "print(f\"{n} radians is equal to {to_degrees(n)} degrees.\")"
   ]
  },
  {
   "cell_type": "markdown",
   "id": "b0217eda",
   "metadata": {},
   "source": [
    "### Bonus (Optional)Create a function, get_days, that takes two dates and returns the number of days between the first and second date"
   ]
  },
  {
   "cell_type": "code",
   "execution_count": 7,
   "id": "433be57f",
   "metadata": {},
   "outputs": [],
   "source": [
    "from datetime import date\n",
    "def get_days(start_date,end_date):\n",
    "    return abs((end_date - start_date).days)"
   ]
  },
  {
   "cell_type": "code",
   "execution_count": 8,
   "id": "cb56fdc5",
   "metadata": {},
   "outputs": [
    {
     "name": "stdout",
     "output_type": "stream",
     "text": [
      "Difference between 2022-01-01 and 2022-12-01 is 334 days\n"
     ]
    }
   ],
   "source": [
    "start_date=date(2022,1,1)\n",
    "end_date=date(2022,12,1)\n",
    "abs((end_date - start_date).days)\n",
    "print(f'Difference between {start_date} and {end_date} is {abs((end_date - start_date).days)} days')"
   ]
  }
 ],
 "metadata": {
  "kernelspec": {
   "display_name": "Python 3 (ipykernel)",
   "language": "python",
   "name": "python3"
  },
  "language_info": {
   "codemirror_mode": {
    "name": "ipython",
    "version": 3
   },
   "file_extension": ".py",
   "mimetype": "text/x-python",
   "name": "python",
   "nbconvert_exporter": "python",
   "pygments_lexer": "ipython3",
   "version": "3.9.13"
  }
 },
 "nbformat": 4,
 "nbformat_minor": 5
}
