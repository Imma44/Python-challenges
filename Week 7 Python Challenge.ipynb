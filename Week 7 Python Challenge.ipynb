{
 "cells": [
  {
   "cell_type": "markdown",
   "id": "97fe69b0",
   "metadata": {},
   "source": [
    "### Problem: Create a function that takes a list of dictionaries and returns the sum of people’s budgets.\n"
   ]
  },
  {
   "cell_type": "code",
   "execution_count": 1,
   "id": "77a6393a",
   "metadata": {},
   "outputs": [],
   "source": [
    "def sum_budgets(dict):\n",
    "    return sum(d[\"budget\"] for d in dict)\n",
    "    "
   ]
  },
  {
   "cell_type": "code",
   "execution_count": 2,
   "id": "cafd7479",
   "metadata": {},
   "outputs": [
    {
     "name": "stdout",
     "output_type": "stream",
     "text": [
      "Sum of budgets is 65700.\n"
     ]
    }
   ],
   "source": [
    "dict=([\n",
    "{ \"name\": \"John\", \"age\": 21, \"budget\": 23000 },\n",
    "{ \"name\": \"Steve\", \"age\": 32, \"budget\": 40000 },\n",
    "{ \"name\": \"Martin\", \"age\": 16, \"budget\": 2700 }\n",
    "])\n",
    "print(f\"Sum of budgets is {sum_budgets(dict)}.\")"
   ]
  },
  {
   "cell_type": "code",
   "execution_count": 3,
   "id": "a8ca49eb",
   "metadata": {},
   "outputs": [
    {
     "name": "stdout",
     "output_type": "stream",
     "text": [
      "Sum of budgets is 62600.\n"
     ]
    }
   ],
   "source": [
    "dict=([\n",
    "{ \"name\": \"John\", \"age\": 21, \"budget\": 29000 },\n",
    "{ \"name\": \"Steve\", \"age\": 32, \"budget\": 32000 },\n",
    "{ \"name\": \"Martin\", \"age\": 16, \"budget\": 1600 }\n",
    "])\n",
    "print(f\"Sum of budgets is {sum_budgets(dict)}.\")"
   ]
  }
 ],
 "metadata": {
  "kernelspec": {
   "display_name": "Python 3 (ipykernel)",
   "language": "python",
   "name": "python3"
  },
  "language_info": {
   "codemirror_mode": {
    "name": "ipython",
    "version": 3
   },
   "file_extension": ".py",
   "mimetype": "text/x-python",
   "name": "python",
   "nbconvert_exporter": "python",
   "pygments_lexer": "ipython3",
   "version": "3.9.13"
  }
 },
 "nbformat": 4,
 "nbformat_minor": 5
}
