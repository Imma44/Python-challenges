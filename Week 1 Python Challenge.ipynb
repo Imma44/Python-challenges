{
 "cells": [
  {
   "cell_type": "markdown",
   "id": "49003453",
   "metadata": {},
   "source": [
    "### Problem 1: Write a function that takes in an integer, minutes, and converts it into seconds\n"
   ]
  },
  {
   "cell_type": "code",
   "execution_count": 1,
   "id": "37d77447",
   "metadata": {},
   "outputs": [],
   "source": [
    "def to_seconds(minutes):\n",
    "    return minutes * 60\n",
    "\n",
    "\n",
    "    "
   ]
  },
  {
   "cell_type": "code",
   "execution_count": 2,
   "id": "58f2f274",
   "metadata": {},
   "outputs": [
    {
     "name": "stdout",
     "output_type": "stream",
     "text": [
      "80 minutes is equal to 4800 seconds.\n"
     ]
    }
   ],
   "source": [
    "minutes=80\n",
    "print(f\"{minutes} minutes is equal to {to_seconds(minutes)} seconds.\")"
   ]
  },
  {
   "cell_type": "markdown",
   "id": "b39c4cd8",
   "metadata": {},
   "source": [
    "### Problem 2: Write a function that takes two numbers as arguments and returns their sum."
   ]
  },
  {
   "cell_type": "code",
   "execution_count": 3,
   "id": "f76df994",
   "metadata": {},
   "outputs": [],
   "source": [
    "def sum_numbers(n1,n2):\n",
    "    return n1 + n2\n",
    "    "
   ]
  },
  {
   "cell_type": "code",
   "execution_count": 4,
   "id": "d3bf3274",
   "metadata": {},
   "outputs": [
    {
     "name": "stdout",
     "output_type": "stream",
     "text": [
      "The sum of 80 and 90 is 170.\n"
     ]
    }
   ],
   "source": [
    "n1=80\n",
    "n2=90\n",
    "print(f\"The sum of {n1} and {n2} is {sum_numbers(n1, n2)}.\")"
   ]
  },
  {
   "cell_type": "markdown",
   "id": "b96d4a43",
   "metadata": {},
   "source": [
    "### Bonus Points (Optional) Create a function that takes a number as an argument and returns “Fizz”, “Buzz” or “FizzBuzz”."
   ]
  },
  {
   "cell_type": "markdown",
   "id": "283e2406",
   "metadata": {},
   "source": [
    "\n",
    "* Returns:\n",
    "   * \"Fizz\" if the number is divisible by 3\n",
    "   * \"Buzz\" if the number is divisible by 5\n",
    "   * \"FizzBuzz\" if the number is divisible by both 3 and 5\n",
    "   * If the number is not divisible by either 3 or 5, it returns the number itself as a string:"
   ]
  },
  {
   "cell_type": "code",
   "execution_count": 5,
   "id": "6ac6d011",
   "metadata": {},
   "outputs": [],
   "source": [
    "def output(n):\n",
    "    if n %3==0 and n %5==0:\n",
    "        return \"FizzBuzz\"\n",
    "    elif n %5 ==0:\n",
    "            return \"Buzz\"\n",
    "    elif n %3==0 :\n",
    "            return \"Fizz\"\n",
    "    else:\n",
    "        return(n)"
   ]
  },
  {
   "cell_type": "code",
   "execution_count": 6,
   "id": "9425fb80",
   "metadata": {},
   "outputs": [
    {
     "name": "stdout",
     "output_type": "stream",
     "text": [
      "3 returns Fizz.\n",
      "5 returns Buzz.\n",
      "15 returns FizzBuzz.\n"
     ]
    }
   ],
   "source": [
    "n=[3,5,15]\n",
    "for i in n:\n",
    "    print(f\"{i} returns {output(i)}.\")"
   ]
  }
 ],
 "metadata": {
  "kernelspec": {
   "display_name": "Python 3 (ipykernel)",
   "language": "python",
   "name": "python3"
  },
  "language_info": {
   "codemirror_mode": {
    "name": "ipython",
    "version": 3
   },
   "file_extension": ".py",
   "mimetype": "text/x-python",
   "name": "python",
   "nbconvert_exporter": "python",
   "pygments_lexer": "ipython3",
   "version": "3.9.13"
  }
 },
 "nbformat": 4,
 "nbformat_minor": 5
}
