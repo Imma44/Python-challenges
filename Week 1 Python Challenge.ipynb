{
 "cells": [
  {
   "cell_type": "markdown",
   "id": "926c4ba8",
   "metadata": {},
   "source": [
    "### Problem 1: Write a function that takes in an integer, minutes, and converts it into seconds\n"
   ]
  },
  {
   "cell_type": "code",
   "execution_count": 5,
   "id": "cb9f132c",
   "metadata": {},
   "outputs": [],
   "source": [
    "def to_seconds(minutes):\n",
    "    return minutes * 60\n",
    "        \n",
    "    "
   ]
  },
  {
   "cell_type": "markdown",
   "id": "c5d5f9ba",
   "metadata": {},
   "source": [
    "### Problem 2: Write a function that takes two numbers as arguments and returns their sum."
   ]
  },
  {
   "cell_type": "code",
   "execution_count": null,
   "id": "7589de81",
   "metadata": {},
   "outputs": [],
   "source": [
    "def sum_numbers(n1,n2):\n",
    "    return n1 + n2\n",
    "    "
   ]
  },
  {
   "cell_type": "markdown",
   "id": "f69974f6",
   "metadata": {},
   "source": [
    "### Bonus Points (Optional) Create a function that takes a number as an argument and returns “Fizz”, “Buzz” or “FizzBuzz”."
   ]
  },
  {
   "cell_type": "markdown",
   "id": "91618b0a",
   "metadata": {},
   "source": [
    "\n",
    "* Returns:\n",
    "   * \"Fizz\" if the number is divisible by 3\n",
    "   * \"Buzz\" if the number is divisible by 5\n",
    "   * \"FizzBuzz\" if the number is divisible by both 3 and 5\n",
    "   * If the number is not divisible by either 3 or 5, it returns the number itself as a string:"
   ]
  },
  {
   "cell_type": "code",
   "execution_count": 33,
   "id": "bcb5f7a0",
   "metadata": {},
   "outputs": [],
   "source": [
    "def output(n):\n",
    "    if n %3==0 and n %5==0:\n",
    "        return \"FizzBuzz\"\n",
    "    elif n %5 ==0:\n",
    "            return \"Buzz\"\n",
    "    elif n %3==0 :\n",
    "            return \"Fizz\"\n",
    "    else:\n",
    "        return(n)"
   ]
  }
 ],
 "metadata": {
  "kernelspec": {
   "display_name": "Python 3 (ipykernel)",
   "language": "python",
   "name": "python3"
  },
  "language_info": {
   "codemirror_mode": {
    "name": "ipython",
    "version": 3
   },
   "file_extension": ".py",
   "mimetype": "text/x-python",
   "name": "python",
   "nbconvert_exporter": "python",
   "pygments_lexer": "ipython3",
   "version": "3.9.13"
  }
 },
 "nbformat": 4,
 "nbformat_minor": 5
}
